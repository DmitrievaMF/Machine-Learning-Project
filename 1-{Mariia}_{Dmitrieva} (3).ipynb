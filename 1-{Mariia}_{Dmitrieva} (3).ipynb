{
 "cells": [
  {
   "cell_type": "code",
   "execution_count": 38,
   "id": "8a91c44f",
   "metadata": {},
   "outputs": [],
   "source": [
    "import numpy as np\n",
    "import pandas as pd"
   ]
  },
  {
   "cell_type": "code",
   "execution_count": 39,
   "id": "9eca60ab",
   "metadata": {},
   "outputs": [
    {
     "data": {
      "text/plain": [
       "((20483, 61), (9988, 59))"
      ]
     },
     "execution_count": 39,
     "metadata": {},
     "output_type": "execute_result"
    }
   ],
   "source": [
    "\n",
    "pd.options.display.max_rows = 1000\n",
    "\n",
    "\n",
    "train = pd.read_csv('C:/Users/1/Downloads/Telegram Desktop/train.csv')\n",
    "test = pd.read_csv('C:/Users/1/Downloads/Telegram Desktop/test.csv')\n",
    "\n",
    "train.shape, test.shape"
   ]
  },
  {
   "cell_type": "code",
   "execution_count": 40,
   "id": "0bcb05b1",
   "metadata": {},
   "outputs": [
    {
     "data": {
      "text/plain": [
       "state                          12014\n",
       "build_year                     11582\n",
       "num_room                        9572\n",
       "max_floor                       9572\n",
       "cafe_sum_1000_min_price_avg     4596\n",
       "life_sq                         4193\n",
       "build_count_mix                 3063\n",
       "build_count_wood                3063\n",
       "cafe_sum_1500_min_price_avg     2998\n",
       "total_trans_amt                 2403\n",
       "0_17_all                        2403\n",
       "floor                            167\n",
       "metro_km_walk                     10\n",
       "railroad_station_walk_km          10\n",
       "dtype: int64"
      ]
     },
     "execution_count": 40,
     "metadata": {},
     "output_type": "execute_result"
    }
   ],
   "source": [
    "result = (\n",
    "    train\n",
    "    .isnull().sum()                   # count of non-null values\n",
    "    .sort_values(ascending=False)     # sort values using descending order\n",
    ")\n",
    "\n",
    "result[result > 0]"
   ]
  },
  {
   "cell_type": "markdown",
   "id": "da51542c",
   "metadata": {},
   "source": [
    "All variables are numeric, so we can fill in missing values by mode"
   ]
  },
  {
   "cell_type": "code",
   "execution_count": 41,
   "id": "8493ec3d",
   "metadata": {},
   "outputs": [],
   "source": [
    "for i in result[result > 0].index:\n",
    "    train_modes = train.dropna().mode().iloc[0]\n",
    "    train[i].fillna(train_modes[i], inplace=True)\n",
    "    test[i].fillna(train_modes[i], inplace=True)"
   ]
  },
  {
   "cell_type": "code",
   "execution_count": 42,
   "id": "08788ce3",
   "metadata": {},
   "outputs": [
    {
     "data": {
      "text/plain": [
       "Series([], dtype: int64)"
      ]
     },
     "execution_count": 42,
     "metadata": {},
     "output_type": "execute_result"
    }
   ],
   "source": [
    "result = (\n",
    "    train\n",
    "    .isnull().sum()                   # count of non-null values\n",
    "    .sort_values(ascending=False)     # sort values using descending order\n",
    ")\n",
    "\n",
    "result[result > 0]"
   ]
  },
  {
   "cell_type": "markdown",
   "id": "f264359c",
   "metadata": {},
   "source": [
    "We will use z-score to estimate are there outliers in features\n",
    "\n",
    "By this strategy we need to use standart scaler "
   ]
  },
  {
   "cell_type": "code",
   "execution_count": 43,
   "id": "05c1b42b",
   "metadata": {},
   "outputs": [],
   "source": [
    "from sklearn.preprocessing import StandardScaler"
   ]
  },
  {
   "cell_type": "code",
   "execution_count": 44,
   "id": "5219f1b8",
   "metadata": {},
   "outputs": [],
   "source": [
    "tr_sc = StandardScaler()\n",
    "\n",
    "for i in train.select_dtypes(include=['float64',\"int64\"]).columns:\n",
    "    if i!=\"__churn\" and i!=\"__price_doc\":\n",
    "        tr_sc.fit(np.array(train[i]).reshape(-1, 1))\n",
    "        train[f'f__{i}'] = tr_sc.transform(np.array(train[i]).reshape(-1, 1))\n",
    "        test[f'f__{i}'] = tr_sc.transform(np.array(test[i]).reshape(-1, 1))"
   ]
  },
  {
   "cell_type": "code",
   "execution_count": 45,
   "id": "d1946a7f",
   "metadata": {},
   "outputs": [
    {
     "name": "stdout",
     "output_type": "stream",
     "text": [
      "feature: f__max_floor mean: 1.8006480833936114e-14 std: 1.0000244113805672\n",
      "feature: f__state mean: 8.787515784931337e-15 std: 1.000024411380634\n",
      "feature: f__total_revolving_bal mean: -1.617772133768835e-16 std: 1.0000244113805745\n",
      "feature: f__market_count_1500 mean: 1.1105807589395894e-15 std: 1.0000244113806422\n",
      "feature: f__leisure_count_3000 mean: 5.854213651354258e-16 std: 1.0000244113806045\n",
      "feature: f__total_ct_chng_q4_q1 mean: 7.02866624607075e-18 std: 1.0000244113805863\n",
      "feature: f__railroad_station_walk_km mean: 2.355883718672864e-16 std: 1.0000244113806036\n",
      "feature: f__contacts_count_12_mon mean: -2.645174244385924e-16 std: 1.0000244113807104\n",
      "feature: f__0_17_all mean: -6.688905370829802e-15 std: 1.0000244113806522\n",
      "feature: f__trc_count_2000 mean: -4.832611172804489e-16 std: 1.0000244113806043\n",
      "feature: f__build_count_wood mean: 2.691300290080208e-15 std: 1.0000244113806225\n",
      "feature: f__credit_limit mean: -5.978499224535213e-18 std: 1.0000244113805914\n",
      "feature: f__total_trans_ct mean: 1.0643137876062869e-16 std: 1.0000244113805796\n",
      "feature: f__leisure_count_5000 mean: -4.782907783965877e-16 std: 1.0000244113805208\n",
      "feature: f__life_sq mean: -2.5862666497488877e-16 std: 1.0000244113805656\n",
      "feature: f__cafe_count_1000_price_1000 mean: 3.066284444750568e-16 std: 1.000024411380675\n",
      "feature: f__mkad_km mean: -1.1961226218240996e-15 std: 1.0000244113805847\n",
      "feature: f__school_education_centers_top_20_raion mean: -3.304115431354166e-15 std: 1.0000244113807535\n",
      "feature: f__avg_utilization_ratio mean: 8.714353697412954e-17 std: 1.0000244113805787\n",
      "feature: f__public_transport_station_min_walk mean: -1.3927518297737493e-16 std: 1.0000244113805912\n",
      "feature: f__customer_age mean: 3.5160946935231123e-16 std: 1.0000244113806294\n",
      "feature: f__detention_facility_km mean: 2.6239811963642266e-16 std: 1.0000244113805816\n",
      "feature: f__sport_count_2000 mean: -5.039609255655803e-16 std: 1.0000244113805985\n",
      "feature: f__cafe_sum_1000_min_price_avg mean: 1.4347395398760723e-15 std: 1.0000244113806014\n",
      "feature: f__total_amt_chng_q4_q1 mean: 5.678564747913557e-16 std: 1.000024411380587\n",
      "feature: f__metro_km_walk mean: 8.638335155595995e-16 std: 1.0000244113805805\n",
      "feature: f__office_sqm_5000 mean: -8.720044925142566e-17 std: 1.00002441138058\n",
      "feature: f__total_trans_amt mean: -9.455365098350643e-17 std: 1.0000244113805685\n",
      "feature: f__months_inactive_12_mon mean: 1.3704367968567853e-15 std: 1.0000244113805716\n",
      "feature: f__cafe_sum_1500_min_price_avg mean: -1.659128388604015e-16 std: 1.0000244113805778\n",
      "feature: f__floor mean: -9.362828445575595e-16 std: 1.0000244113806218\n",
      "feature: f__num_room mean: 7.828103519869791e-15 std: 1.000024411380615\n",
      "feature: f__months_on_book mean: -3.6643850522350364e-16 std: 1.0000244113805539\n",
      "feature: f__dependent_count mean: -2.4564422924382216e-16 std: 1.0000244113805914\n",
      "feature: f__avg_open_to_buy mean: 8.236019557281284e-17 std: 1.0000244113805907\n",
      "feature: f__build_year mean: 7.042866367401465e-16 std: 1.0000244113805872\n",
      "feature: f__full_sq mean: -1.201230583402315e-16 std: 1.0000244113807093\n",
      "feature: f__total_relationship_count mean: -2.0927457394315919e-16 std: 1.0000244113806176\n",
      "feature: f__build_count_mix mean: -6.615748703528305e-15 std: 1.0000244113806485\n"
     ]
    }
   ],
   "source": [
    "#check correct transformation\n",
    "f_list=[]\n",
    "for i in train.select_dtypes(include=['float64',\"int64\"]).columns:\n",
    "    if \"f__\" in i:\n",
    "        f_list.append(i)\n",
    "        print(f\"feature: {i} mean: {train[i].mean()} std: {train[i].std()}\")"
   ]
  },
  {
   "cell_type": "markdown",
   "id": "2d8c564d",
   "metadata": {},
   "source": [
    "Delete all observations where (at least) one of (standart) random variable more that 3 (it means that this variable deviate more that 3 standart deviation from mean)"
   ]
  },
  {
   "cell_type": "code",
   "execution_count": 46,
   "id": "97c34de7",
   "metadata": {},
   "outputs": [],
   "source": [
    "train_without_out = train[(np.abs(train[f_list])<3).all(axis=1)].reset_index().drop([\"index\"],axis=1)\n",
    "#test_without_out = test[(np.abs(test[f_list])<3).all(axis=1)].reset_index().drop([\"index\"],axis=1)\n",
    "test_without_out = test.reset_index().drop([\"index\"],axis=1)"
   ]
  },
  {
   "cell_type": "markdown",
   "id": "21290265",
   "metadata": {},
   "source": [
    "At the end we need to transform categorical variables"
   ]
  },
  {
   "cell_type": "code",
   "execution_count": 47,
   "id": "a31849e5",
   "metadata": {},
   "outputs": [],
   "source": [
    "from sklearn.preprocessing import OneHotEncoder"
   ]
  },
  {
   "cell_type": "code",
   "execution_count": 48,
   "id": "9458a14e",
   "metadata": {},
   "outputs": [],
   "source": [
    "onehot = OneHotEncoder(sparse=False)\n",
    "\n",
    "for i in train.select_dtypes(include=[\"object\"]).columns:\n",
    "    if i!= \"timestamp\":\n",
    "        onehot.fit(test_without_out[[i]])\n",
    "        values_train = onehot.transform(train_without_out[[i]])\n",
    "        values_test = onehot.transform(test_without_out[[i]])\n",
    "\n",
    "        list_names = []\n",
    "        for j, cat in enumerate(onehot.categories_[0]):\n",
    "            name = f'f__{i}_{cat}'\n",
    "            list_names.append(name)\n",
    "            train_without_out[name] = values_train[:, j]\n",
    "            test_without_out[name] = values_test[:, j]"
   ]
  },
  {
   "cell_type": "code",
   "execution_count": 49,
   "id": "2018644d",
   "metadata": {},
   "outputs": [],
   "source": [
    "train_without_out.to_csv('train_corr.csv', index=False)\n",
    "test_without_out.to_csv('test_corr.csv', index=False)"
   ]
  },
  {
   "cell_type": "code",
   "execution_count": 50,
   "id": "c1e6a861",
   "metadata": {},
   "outputs": [
    {
     "data": {
      "text/plain": [
       "((13953, 147), (9988, 145))"
      ]
     },
     "execution_count": 50,
     "metadata": {},
     "output_type": "execute_result"
    }
   ],
   "source": [
    "train_without_out.shape, test_without_out.shape"
   ]
  },
  {
   "cell_type": "code",
   "execution_count": 51,
   "id": "10fb021c",
   "metadata": {},
   "outputs": [
    {
     "name": "stdout",
     "output_type": "stream",
     "text": [
      "86\n",
      "Index(['f__max_floor', 'f__state', 'f__total_revolving_bal',\n",
      "       'f__market_count_1500', 'f__leisure_count_3000',\n",
      "       'f__total_ct_chng_q4_q1', 'f__railroad_station_walk_km',\n",
      "       'f__contacts_count_12_mon', 'f__0_17_all', 'f__trc_count_2000',\n",
      "       'f__build_count_wood', 'f__credit_limit', 'f__total_trans_ct',\n",
      "       'f__leisure_count_5000', 'f__life_sq', 'f__cafe_count_1000_price_1000',\n",
      "       'f__mkad_km', 'f__school_education_centers_top_20_raion',\n",
      "       'f__avg_utilization_ratio', 'f__public_transport_station_min_walk',\n",
      "       'f__customer_age', 'f__detention_facility_km', 'f__sport_count_2000',\n",
      "       'f__cafe_sum_1000_min_price_avg', 'f__total_amt_chng_q4_q1',\n",
      "       'f__metro_km_walk', 'f__office_sqm_5000', 'f__total_trans_amt',\n",
      "       'f__months_inactive_12_mon', 'f__cafe_sum_1500_min_price_avg',\n",
      "       'f__floor', 'f__num_room', 'f__months_on_book', 'f__dependent_count',\n",
      "       'f__avg_open_to_buy', 'f__build_year', 'f__full_sq',\n",
      "       'f__total_relationship_count', 'f__build_count_mix',\n",
      "       'f__marital_status_Married', 'f__marital_status_Single',\n",
      "       'f__big_market_raion_no', 'f__big_market_raion_yes',\n",
      "       'f__water_1line_no', 'f__water_1line_yes',\n",
      "       'f__culture_objects_top_25_no', 'f__culture_objects_top_25_yes',\n",
      "       'f__product_type_Investment', 'f__product_type_OwnerOccupier',\n",
      "       'f__big_road1_1line_no', 'f__big_road1_1line_yes',\n",
      "       'f__card_category_Blue', 'f__card_category_Gold',\n",
      "       'f__card_category_Silver', 'f__income_category_$120K +',\n",
      "       'f__income_category_$40K - $60K', 'f__income_category_$60K - $80K',\n",
      "       'f__income_category_$80K - $120K', 'f__income_category_Less than $40K',\n",
      "       'f__income_category_Unknown', 'f__thermal_power_plant_raion_no',\n",
      "       'f__thermal_power_plant_raion_yes', 'f__radiation_raion_no',\n",
      "       'f__radiation_raion_yes', 'f__ecology_excellent', 'f__ecology_good',\n",
      "       'f__ecology_no data', 'f__ecology_poor', 'f__ecology_satisfactory',\n",
      "       'f__gender_F', 'f__gender_M', 'f__oil_chemistry_raion_no',\n",
      "       'f__oil_chemistry_raion_yes', 'f__nuclear_reactor_raion_no',\n",
      "       'f__nuclear_reactor_raion_yes', 'f__railroad_1line_no',\n",
      "       'f__railroad_1line_yes', 'f__education_level_Graduate',\n",
      "       'f__education_level_High School', 'f__education_level_Unknown',\n",
      "       'f__incineration_raion_no', 'f__incineration_raion_yes',\n",
      "       'f__detention_facility_raion_no', 'f__detention_facility_raion_yes',\n",
      "       'f__railroad_terminal_raion_no', 'f__railroad_terminal_raion_yes'],\n",
      "      dtype='object')\n"
     ]
    }
   ],
   "source": [
    "new_columns = train_without_out.columns[train_without_out.columns.str.startswith('f__')]\n",
    "print(len(new_columns))\n",
    "print(new_columns)"
   ]
  },
  {
   "cell_type": "code",
   "execution_count": null,
   "id": "8bf09d5a",
   "metadata": {},
   "outputs": [],
   "source": []
  }
 ],
 "metadata": {
  "kernelspec": {
   "display_name": "Python 3 (ipykernel)",
   "language": "python",
   "name": "python3"
  },
  "language_info": {
   "codemirror_mode": {
    "name": "ipython",
    "version": 3
   },
   "file_extension": ".py",
   "mimetype": "text/x-python",
   "name": "python",
   "nbconvert_exporter": "python",
   "pygments_lexer": "ipython3",
   "version": "3.9.13"
  }
 },
 "nbformat": 4,
 "nbformat_minor": 5
}
